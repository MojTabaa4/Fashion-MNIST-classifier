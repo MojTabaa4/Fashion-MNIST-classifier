{
  "nbformat": 4,
  "nbformat_minor": 0,
  "metadata": {
    "colab": {
      "provenance": [],
      "gpuType": "T4",
      "include_colab_link": true
    },
    "kernelspec": {
      "name": "python3",
      "display_name": "Python 3"
    },
    "language_info": {
      "name": "python"
    },
    "accelerator": "GPU"
  },
  "cells": [
    {
      "cell_type": "markdown",
      "metadata": {
        "id": "view-in-github",
        "colab_type": "text"
      },
      "source": [
        "<a href=\"https://colab.research.google.com/github/MojTabaa4/MNIST-classifier/blob/main/fashion_MNIST_classifier.ipynb\" target=\"_parent\"><img src=\"https://colab.research.google.com/assets/colab-badge.svg\" alt=\"Open In Colab\"/></a>"
      ]
    },
    {
      "cell_type": "code",
      "source": [
        "import tensorflow as tf\n",
        "\n",
        "# Load the Fashion-MNIST dataset into memory\n",
        "(train_images, train_labels), (test_images, test_labels) = tf.keras.datasets.fashion_mnist.load_data()\n",
        "\n",
        "train_images = train_images / 255.0\n",
        "test_images = test_images / 255.0"
      ],
      "metadata": {
        "id": "yoyWPUXAsLsy",
        "colab": {
          "base_uri": "https://localhost:8080/"
        },
        "outputId": "ffa36054-a023-4388-d024-1c7faad7712a"
      },
      "execution_count": 2,
      "outputs": [
        {
          "output_type": "stream",
          "name": "stdout",
          "text": [
            "Downloading data from https://storage.googleapis.com/tensorflow/tf-keras-datasets/train-labels-idx1-ubyte.gz\n",
            "29515/29515 [==============================] - 0s 1us/step\n",
            "Downloading data from https://storage.googleapis.com/tensorflow/tf-keras-datasets/train-images-idx3-ubyte.gz\n",
            "26421880/26421880 [==============================] - 3s 0us/step\n",
            "Downloading data from https://storage.googleapis.com/tensorflow/tf-keras-datasets/t10k-labels-idx1-ubyte.gz\n",
            "5148/5148 [==============================] - 0s 0us/step\n",
            "Downloading data from https://storage.googleapis.com/tensorflow/tf-keras-datasets/t10k-images-idx3-ubyte.gz\n",
            "4422102/4422102 [==============================] - 1s 0us/step\n"
          ]
        }
      ]
    },
    {
      "cell_type": "code",
      "source": [
        "\n",
        "import numpy as np\n",
        "import matplotlib.pyplot as plt"
      ],
      "metadata": {
        "id": "WtZERq-RVwsN"
      },
      "execution_count": 3,
      "outputs": []
    },
    {
      "cell_type": "code",
      "source": [
        "unique_classes = np.unique(train_labels)\n",
        "\n",
        "# Create a grid of subplots\n",
        "fig, axs = plt.subplots(1, len(unique_classes), figsize=(20, 5))\n",
        "\n",
        "# Plot one image from each class in a separate subplot\n",
        "for i, cls in enumerate(unique_classes):\n",
        "    idx = np.where(train_labels == cls)[0][0]\n",
        "    axs[i].imshow(train_images[idx], cmap='gray')\n",
        "    axs[i].set_title(f\"Class {cls}\")\n",
        "\n",
        "plt.show()"
      ],
      "metadata": {
        "colab": {
          "base_uri": "https://localhost:8080/",
          "height": 120
        },
        "id": "jVhD0hS7ZSY8",
        "outputId": "fd7d95fd-e0c5-4664-cb04-6f2aaa3f8fba"
      },
      "execution_count": 4,
      "outputs": [
        {
          "output_type": "display_data",
          "data": {
            "text/plain": [
              "<Figure size 2000x500 with 10 Axes>"
            ],
            "image/png": "[encoded data removed]"
          },
          "metadata": {}
        }
      ]
    },
    {
      "cell_type": "code",
      "source": [
        "unique_classes, class_counts = np.unique(train_labels, return_counts=True)\n",
        "\n",
        "plt.bar(unique_classes, class_counts, color='b')\n",
        "plt.xticks(unique_classes)  # set the x-ticks to the unique classes\n",
        "\n",
        "# set the x-axis limits to show all unique classes\n",
        "plt.xlim(unique_classes[0] - 0.5, unique_classes[-1] + 0.5)\n",
        "\n",
        "plt.xlabel('Class')\n",
        "plt.ylabel('Frequency')\n",
        "plt.title('Class Frequency in Train Labels')"
      ],
      "metadata": {
        "colab": {
          "base_uri": "https://localhost:8080/",
          "height": 489
        },
        "id": "1MPY-CCVXfo5",
        "outputId": "9b925007-91c6-4d29-d70a-81b09a210fc3"
      },
      "execution_count": 5,
      "outputs": [
        {
          "output_type": "execute_result",
          "data": {
            "text/plain": [
              "Text(0.5, 1.0, 'Class Frequency in Train Labels')"
            ]
          },
          "metadata": {},
          "execution_count": 5
        },
        {
          "output_type": "display_data",
          "data": {
            "text/plain": [
              "<Figure size 640x480 with 1 Axes>"
            ],
            "image/png": "[encoded data removed]"
          },
          "metadata": {}
        }
      ]
    },
    {
      "cell_type": "code",
      "source": [
        "unique_classes, class_counts = np.unique(test_labels, return_counts=True)\n",
        "\n",
        "plt.bar(unique_classes, class_counts, color='r')\n",
        "plt.xticks(unique_classes)\n",
        "\n",
        "plt.xlim(unique_classes[0] - 0.5, unique_classes[-1] + 0.5)\n",
        "\n",
        "plt.xlabel('Class')\n",
        "plt.ylabel('Frequency')\n",
        "plt.title('Class Frequency in Test Labels')"
      ],
      "metadata": {
        "colab": {
          "base_uri": "https://localhost:8080/",
          "height": 489
        },
        "id": "GuaHnkaXXfjM",
        "outputId": "cda9cb16-f370-4db1-d300-a5baded8c8c2"
      },
      "execution_count": 6,
      "outputs": [
        {
          "output_type": "execute_result",
          "data": {
            "text/plain": [
              "Text(0.5, 1.0, 'Class Frequency in Test Labels')"
            ]
          },
          "metadata": {},
          "execution_count": 6
        },
        {
          "output_type": "display_data",
          "data": {
            "text/plain": [
              "<Figure size 640x480 with 1 Axes>"
            ],
            "image/png": "[encoded data removed]"
          },
          "metadata": {}
        }
      ]
    },
    {
      "cell_type": "code",
      "source": [
        "from typing import Tuple, Optional\n",
        "\n",
        "class DataLoader:\n",
        "    def __init__(self, data: np.ndarray, labels: np.ndarray, batch_size: Optional[int] = 32, shuffle: Optional[bool] = True) -> None:\n",
        "        # Initialize the data and labels arrays, batch size, and shuffle flag\n",
        "        self.__data = data\n",
        "        self.__labels = labels\n",
        "        self.__batch_size = batch_size\n",
        "        self.__shuffle = shuffle\n",
        "        \n",
        "        # Compute the number of samples and classes in the dataset\n",
        "        self.__num_samples = data.shape[0]\n",
        "        self.__num_classes = np.max(labels) + 1\n",
        "        \n",
        "        # One-hot encode the labels using np.eye()\n",
        "        self.__onehot_labels = np.eye(self.__num_classes)[labels]\n",
        "        \n",
        "    def __shuffle_dataset(self) -> None:\n",
        "        # Shuffle the data and one-hot encoded labels using np.random.permutation()\n",
        "        indices = np.random.permutation(self.__num_samples)\n",
        "        self.__data = self.__data[indices]\n",
        "        self.__onehot_labels = self.__onehot_labels[indices]\n",
        "        \n",
        "    def __iter__(self) -> Tuple[np.ndarray, np.ndarray]:\n",
        "        if self.__shuffle:\n",
        "            self.__shuffle_dataset()\n",
        "            \n",
        "        # If batch size is None, yield the entire dataset as a single batch\n",
        "        if self.__batch_size == None:\n",
        "            yield (np.array(self.__data.reshape(-1, self.__data.shape[1], self.__data.shape[2], 1)), \n",
        "                   np.array(self.__onehot_labels))\n",
        "            return\n",
        "            \n",
        "        # Iterateover the data in batches of size batch_size\n",
        "        for idx in range(0, len(self.__data), self.__batch_size):\n",
        "            # Extract the corresponding batch of data and one-hot encoded labels\n",
        "            batch_data = np.array(self.__data[idx:idx+self.__batch_size].reshape(-1, self.__data.shape[1], self.__data.shape[2], 1))\n",
        "            batch_labels = np.array(self.__onehot_labels[idx:idx+self.__batch_size])\n",
        "            \n",
        "            # Yield the batch as a tuple\n",
        "            yield (batch_data, batch_labels)"
      ],
      "metadata": {
        "id": "ofLiOzh5XfY4"
      },
      "execution_count": 7,
      "outputs": []
    },
    {
      "cell_type": "markdown",
      "source": [
        "# Activation Fuctions"
      ],
      "metadata": {
        "id": "qUNaw7fRvCD0"
      }
    },
    {
      "cell_type": "code",
      "source": [
        "class ActivationFunction:\n",
        "    def __init__(self):\n",
        "        pass\n",
        "    \n",
        "    def __compute_value(self, matrix: np.ndarray) -> np.ndarray:\n",
        "        raise NotImplementedError\n",
        "    \n",
        "    def derivative(self, matrix: np.ndarray) -> np.ndarray:\n",
        "        raise NotImplementedError\n",
        "    \n",
        "    def __call__(self, matrix: np.ndarray) -> np.ndarray:\n",
        "        return self.__compute_value(matrix)\n",
        " "
      ],
      "metadata": {
        "id": "gSZQC_KbMi6u"
      },
      "execution_count": 8,
      "outputs": []
    },
    {
      "cell_type": "code",
      "source": [
        "class Identical(ActivationFunction):\n",
        "    def __compute_value(self, matrix: np.ndarray) -> np.ndarray:\n",
        "        return np.matrix(matrix, dtype=np.float32)\n",
        "    \n",
        "    def derivative(self, matrix: np.ndarray) -> np.ndarray:\n",
        "        return np.matrix(np.full(np.shape(matrix), 1.), dtype=np.float32)\n",
        "        \n",
        "    def __call__(self, matrix: np.ndarray) -> np.ndarray:\n",
        "        return self.__compute_value(matrix)"
      ],
      "metadata": {
        "id": "TiRK2eB9ousE"
      },
      "execution_count": 9,
      "outputs": []
    },
    {
      "cell_type": "code",
      "source": [
        "class Relu(ActivationFunction):\n",
        "    def __compute_value(self, matrix: np.ndarray) -> np.ndarray:\n",
        "        relu_value = np.maximum(matrix, 0)\n",
        "        return np.matrix(relu_value, dtype=np.float32)\n",
        "    \n",
        "    def derivative(self, matrix: np.ndarray) -> np.ndarray:\n",
        "        relu_derivative = np.where(matrix > 0, 1.0, 0.0)\n",
        "        return np.matrix(relu_derivative, dtype=np.float32)\n",
        "    \n",
        "    def __call__(self, matrix: np.ndarray) -> np.ndarray:\n",
        "        return self.__compute_value(matrix)"
      ],
      "metadata": {
        "id": "Ffh-dv0XXfTy"
      },
      "execution_count": 10,
      "outputs": []
    },
    {
      "cell_type": "code",
      "source": [
        "class LeakyRelu(ActivationFunction):\n",
        "    def __init__(self, negative_slope: float = 0.01) -> None:\n",
        "        self.negative_slope = negative_slope\n",
        "    \n",
        "    def __compute_value(self, matrix: np.ndarray) -> np.ndarray:\n",
        "        leaky_relu_value = np.maximum(matrix, 0)\n",
        "        negative_part = np.minimum(matrix, 0) * self.negative_slope\n",
        "        return np.matrix(leaky_relu_value + negative_part, dtype=np.float32)\n",
        "    \n",
        "    def derivative(self, matrix: np.ndarray) -> np.ndarray:\n",
        "        leaky_relu_derivative = np.where(matrix > 0, 1.0, self.negative_slope)\n",
        "        return np.matrix(leaky_relu_derivative, dtype=np.float32)"
      ],
      "metadata": {
        "id": "ilEKmg9NXfQv"
      },
      "execution_count": 11,
      "outputs": []
    },
    {
      "cell_type": "code",
      "source": [
        "class Sigmoid(ActivationFunction):\n",
        "    def __compute_value(self, matrix: np.ndarray) -> np.ndarray:\n",
        "        sigmoid_value = 1 / (1 + np.exp(-matrix))\n",
        "        return np.matrix(sigmoid_value, dtype=np.float32)\n",
        "    \n",
        "    def derivative(self, matrix: np.ndarray) -> np.ndarray:\n",
        "        sigmoid_value = self.__compute_value(matrix)\n",
        "        sigmoid_derivative = np.multiply(sigmoid_value, 1 - sigmoid_value)\n",
        "        return np.matrix(sigmoid_derivative, dtype=np.float32)\n",
        "    \n",
        "    def __call__(self, matrix: np.ndarray) -> np.ndarray:\n",
        "        return self.__compute_value(matrix)"
      ],
      "metadata": {
        "id": "qcd8UqtgXfNx"
      },
      "execution_count": 12,
      "outputs": []
    },
    {
      "cell_type": "code",
      "source": [
        "class Softmax(ActivationFunction):\n",
        "    def __compute_value(self, matrix: np.ndarray) -> np.ndarray:\n",
        "        softmax_value = np.exp(np.asarray(matrix) - np.max(np.asarray(matrix), axis=1, keepdims=True))\n",
        "        softmax_value /= np.sum(np.asarray(softmax_value), axis=1, keepdims=True)\n",
        "        return softmax_value\n",
        "    \n",
        "    def derivative(self, matrix: np.ndarray) -> np.ndarray:\n",
        "        softmax_value = self.__compute_value(matrix)\n",
        "        return softmax_value * (1 - softmax_value)\n",
        "    \n",
        "    def __call__(self, matrix: np.ndarray) -> np.ndarray:\n",
        "        return self.__compute_value(matrix)"
      ],
      "metadata": {
        "id": "OeZIl6WbroFr"
      },
      "execution_count": 13,
      "outputs": []
    },
    {
      "cell_type": "markdown",
      "source": [
        "# Loss function"
      ],
      "metadata": {
        "id": "w6LCztr_vKHA"
      }
    },
    {
      "cell_type": "code",
      "source": [
        "class CrossEntropy:\n",
        "    def __init__(self):\n",
        "        self.softmax = Softmax()\n",
        "\n",
        "    def __compute_value(self, true_val: np.ndarray, pred_val: np.ndarray) -> np.ndarray:\n",
        "        assert true_val.shape == pred_val.shape\n",
        "        pred_val = np.clip(pred_val, 1e-8, None)\n",
        "\n",
        "        pred_val_softmax = self.softmax(pred_val)\n",
        "        loss = -np.sum(np.asarray(true_val) * np.log(pred_val_softmax), axis=1, keepdims=True)\n",
        "        \n",
        "        return loss\n",
        "    \n",
        "    def derivative(self, true_val: np.ndarray, pred_val: np.ndarray) -> np.ndarray:\n",
        "        assert true_val.shape == pred_val.shape\n",
        "        pred_val_softmax = self.softmax(pred_val)\n",
        "        return pred_val_softmax - true_val\n",
        "    \n",
        "    def __call__(self, true_val: np.ndarray, pred_val: np.ndarray) -> np.ndarray:\n",
        "        return self.__compute_value(true_val, pred_val)\n"
      ],
      "metadata": {
        "id": "GiUrf3XPvJUX"
      },
      "execution_count": 14,
      "outputs": []
    },
    {
      "cell_type": "markdown",
      "source": [
        "# Neural Layer Class"
      ],
      "metadata": {
        "id": "mfgqvvyi7DIR"
      }
    },
    {
      "cell_type": "code",
      "source": [
        "import numpy as np\n",
        "import math\n",
        "from typing import Optional\n",
        "\n",
        "class NeuralLayer:\n",
        "    # Default values for initialization parameters\n",
        "    DEFAULT_LOW: float = 0\n",
        "    DEFAULT_HIGH: float = 0.05\n",
        "    DEFAULT_MEAN: float = 0.\n",
        "    DEFAULT_VAR: float = 1.\n",
        "\n",
        "    def __init__(self, input_size: int, output_size: int, activation, initial_weight: str = 'uniform', **initializing_parameters):\n",
        "        \"\"\"\n",
        "        Initializes a layer of neurons with the specified input and output sizes,\n",
        "        activation function, and weight initialization method.\n",
        "\n",
        "        Args:\n",
        "            input_size (int): The number of input neurons.\n",
        "            output_size (int): The number of output neurons.\n",
        "            activation (Activation): The activation function to use for the layer.\n",
        "            initial_weight (str): The weight initialization method to use.\n",
        "            **initializing_parameters: Additional parameters for weight initialization.\n",
        "\n",
        "        Raises:\n",
        "            ValueError: If the activation function is not specified.\n",
        "            ValueError: If the weight initialization method is not recognized.\n",
        "        \"\"\"\n",
        "        if activation is None:\n",
        "            raise ValueError('Activation function must be specified!')\n",
        "        \n",
        "        # Dictionary to map weight initialization method names to functions\n",
        "        weight_initializer_methods = {\n",
        "            'uniform': self.__uniform_weight, \n",
        "            'normal': self.__normal_weight\n",
        "        }\n",
        "\n",
        "        if initial_weight not in weight_initializer_methods:\n",
        "            raise ValueError('Undefined weight initialization function!')\n",
        "        \n",
        "        # Initialize instance variables\n",
        "        self.n_neurons: int = output_size\n",
        "        self.weight_initializer = weight_initializer_methods[initial_weight]\n",
        "        self.weight = self.weight_initializer(input_size, self.n_neurons, **initializing_parameters)\n",
        "        self.bias = self.weight_initializer(1, self.n_neurons, **initializing_parameters)\n",
        "        self.activation = activation\n",
        "        \n",
        "        # Last computed values\n",
        "        self.last_input: Optional[np.ndarray] = None\n",
        "        self.last_activation_input: Optional[np.ndarray] = None\n",
        "        self.last_activation_output: Optional[np.ndarray] = None\n",
        "        self.last_activation_derivative: Optional[np.ndarray] = None\n",
        "        \n",
        "    def forward(self, layer_input: np.ndarray) -> np.ndarray:\n",
        "        \"\"\"\n",
        "        Computes the output of the layer given an input.\n",
        "\n",
        "        Args:\n",
        "            layer_input (ndarray): The input to the layer.\n",
        "\n",
        "        Returns:\n",
        "            ndarray: The output of the layer.\n",
        "\n",
        "        Raises:\n",
        "            ValueError: If the input is not a 2D array.\n",
        "            ValueError: If the input size does not match the weight size.\n",
        "        \"\"\"\n",
        "        if np.ndim(layer_input) != 2:\n",
        "            layer_input = layer_input.reshape(layer_input.shape[0], -1)  # Reshape to 2D array\n",
        "            \n",
        "        if np.size(self.weight, 0) != np.size(layer_input, 1):\n",
        "            raise ValueError(f'Weight shape 0 {np.size(self.weight, 0)} and Layer shape 1 {np.size(layer_input, 1)} do not match!')\n",
        "        \n",
        "        # Compute activation input, output, and derivative\n",
        "        self.last_input = layer_input\n",
        "        self.last_activation_input = np.matmul(layer_input, self.weight) + self.bias\n",
        "        self.last_activation_output = self.activation(self.last_activation_input)\n",
        "        self.last_activation_derivative = self.activation.derivative(self.last_activation_input)\n",
        "\n",
        "        return self.last_activation_output\n",
        "    \n",
        "    def update_weights(self, backprop_tensor: np.ndarray, lr: float) -> np.ndarray:\n",
        "        \"\"\"\n",
        "        Updates the weights of the layer given a backpropagation tensor and a learning rate.\n",
        "\n",
        "        Args:\n",
        "            backprop_tensor (ndarray): The backpropagation tensor from the next layer.\n",
        "            lr (float): The learning rate.\n",
        "\n",
        "        Returns:\n",
        "            ndarray: The backpropagation tensor for the current layer.\n",
        "\n",
        "        Raises:\n",
        "            ValueError: If the backprop tensor is not a 2D array.\n",
        "            ValueError: If the backprop tensor shape does not match the activation derivative shape.\n",
        "            ValueError: If the backprop tensor shape does not match the number of neurons in the layer.\n",
        "        \"\"\"\n",
        "        if np.ndim(backprop_tensor) != 2:\n",
        "            raise ValueError('Backprop tensor must be a 2D array!')\n",
        "        if np.size(backprop_tensor, 0) != np.size(self.last_activation_derivative, 0):\n",
        "            raise ValueError(f'Backprop tensor shape 0 {np.size(backprop_tensor, 1)} and activation derivative shape 0 {np.size(self.last_activation_derivative, 0)} do not match!')\n",
        "        if np.size(backprop_tensor, 1) != self.n_neurons:\n",
        "            raise ValueError(f'Backprop tensor shape 1 {np.size(backprop_tensor, 1)} and number of neurons {self.n_neurons} do not match!')\n",
        "        \n",
        "        # Compute gradients and update weights and biases\n",
        "        bias_mul = np.ones(np.size(backprop_tensor, 0))\n",
        "        bias_mul = np.asmatrix(bias_mul)\n",
        "        derivation_of_L_to_Y = np.multiply(self.last_activation_derivative, backprop_tensor)\n",
        "        derivation_of_L_to_W = np.matmul(self.last_input.T, derivation_of_L_to_Y)\n",
        "        derivation_of_L_to_B = np.matmul(bias_mul, derivation_of_L_to_Y)\n",
        "        backprop_tensor = np.matmul(derivation_of_L_to_Y, self.weight.T)\n",
        "        self.weight = self.weight - lr * derivation_of_L_to_W\n",
        "        self.bias = self.bias - lr * derivation_of_L_to_B\n",
        "\n",
        "        return backprop_tensor\n",
        "\n",
        "    def __uniform_weight(self, dim1: int, dim2: int, **initializing_parameters) -> np.ndarray:\n",
        "        \"\"\"\n",
        "        Initializes weights using a uniform distribution with the specified parameters.\n",
        "\n",
        "        Args:\n",
        "            dim1 (int): The first dimension of the weight matrix.\n",
        "            dim2 (int): The second dimension of the weight matrix.\n",
        "\n",
        "        Returns:\n",
        "            ndarray: The initialized weight matrix.\n",
        "        \"\"\"\n",
        "        low = initializing_parameters.get('low', self.DEFAULT_LOW)\n",
        "        high = initializing_parameters.get('high', self.DEFAULT_HIGH)\n",
        "        weights = np.random.uniform(low=low, high=high, size=(dim1, dim2))\n",
        "        weights = np.asmatrix(weights)\n",
        "\n",
        "        return weights\n",
        "\n",
        "    def __normal_weight(self, dim1: int, dim2: int, **initializing_parameters) -> np.ndarray:\n",
        "        \"\"\"\n",
        "        Initializes weights using a normal distribution with the specified parameters.\n",
        "\n",
        "        Args:\n",
        "            dim1 (int): The first dimension of the weight matrix.\n",
        "            dim2 (int): The second dimension of the weight matrix.\n",
        "\n",
        "        Returns:\n",
        "            ndarray: The initialized weight matrix.\n",
        "        \"\"\"\n",
        "        mean = initializing_parameters.get('mean', self.DEFAULT_MEAN)\n",
        "        var = initializing_parameters.get('var', self.DEFAULT_VAR)\n",
        "        weights = np.random.normal(loc=mean, scale=math.sqrt(var), size=(dim1, dim2))\n",
        "        weights = np.asmatrix(weights)\n",
        "\n",
        "        return weights"
      ],
      "metadata": {
        "id": "wyEOTF9-0KJI"
      },
      "execution_count": 15,
      "outputs": []
    },
    {
      "cell_type": "markdown",
      "source": [
        "# Feed Forward Class"
      ],
      "metadata": {
        "id": "OsqFCkGxKjKQ"
      }
    },
    {
      "cell_type": "code",
      "source": [
        "from typing import List, Tuple, Dict, Optional, Iterable\n",
        "\n",
        "\n",
        "class FeedForwardNN:\n",
        "    \"\"\"\n",
        "    A feedforward neural network class with customizable layers,\n",
        "    loss function, and optimization algorithm for training.\n",
        "\n",
        "    Example usage:\n",
        "\n",
        "    model = FeedForwardNN(input_shape=200)\n",
        "    model.add_layer(256, activation=Relu())\n",
        "    model.add_layer(10, activation=Softmax())\n",
        "    model.set_training_param(loss=CrossEntropy(), lr=1e-3)\n",
        "    log = model.fit(epochs=10, trainloader=trainloader, testloader=testloader)\n",
        "    \"\"\"\n",
        "    \n",
        "    def __init__(self, input_shape: int):\n",
        "        \"\"\"\n",
        "        Initialize a new feedforward neural network object.\n",
        "\n",
        "        Args:\n",
        "            input_shape: int, the shape of the input data (number of features).\n",
        "        \"\"\"\n",
        "        self._input_shape = input_shape\n",
        "        self._output_shape = None\n",
        "        self._layers_list = []\n",
        "        self._lr = None\n",
        "        self._loss = None\n",
        "\n",
        "    def add_layer(self,\n",
        "                  n_neurons: int,\n",
        "                  activation,\n",
        "                  initial_weight: str = 'uniform',\n",
        "                  **initializing_parameters) -> None:\n",
        "        \"\"\"\n",
        "        Add a new layer to the neural network.\n",
        "\n",
        "        Args:\n",
        "            n_neurons: int, the number of neurons in the new layer.\n",
        "            activation: an instance of an activation function class.\n",
        "            initial_weight: str, the initialization method for the layer weights            (default is 'uniform').\n",
        "            **initializing_parameters: additional parameters for the weight initialization method.\n",
        "\n",
        "        Returns:\n",
        "            None.\n",
        "        \"\"\"\n",
        "        self._validate_neurons_number(n_neurons)\n",
        "\n",
        "        n_prev_neurons = self._input_shape if not self._layers_list else self._layers_list[-1].n_neurons\n",
        "        new_layer = NeuralLayer(n_prev_neurons, n_neurons, activation, initial_weight, **initializing_parameters)\n",
        "        self._layers_list.append(new_layer)\n",
        "        self._output_shape = self._layers_list[-1].n_neurons \n",
        "\n",
        "    def set_training_param(self, loss, lr: float) -> None:\n",
        "        \"\"\"\n",
        "        Set the loss function and learning rate for the neural network training.\n",
        "\n",
        "        Args:\n",
        "            loss: an instance of a loss function class.\n",
        "            lr: float, the learning rate for the optimization algorithm.\n",
        "        \"\"\"\n",
        "        if not self._layers_list:\n",
        "            raise ValueError(\"Incomplete model\")\n",
        "\n",
        "        self._loss = loss\n",
        "        self._lr = lr\n",
        "\n",
        "    def forward(self, network_input: np.ndarray) -> np.ndarray:\n",
        "        \"\"\"\n",
        "        Perform a forward pass through the neural network.\n",
        "\n",
        "        Args:\n",
        "            network_input: numpy array, the input data to the neural network.\n",
        "\n",
        "        Returns:\n",
        "            numpy array, the output of the neural network.\n",
        "        \"\"\"\n",
        "        if not self._output_shape:\n",
        "            raise ValueError(\"Model is not compiled!\")\n",
        "\n",
        "        for layer in self._layers_list:\n",
        "            network_input = layer.forward(network_input)\n",
        "\n",
        "        network_output = network_input\n",
        "\n",
        "        return network_output\n",
        "\n",
        "    def fit(self, \n",
        "            epochs: int,\n",
        "            trainloader: Iterable[Tuple[np.ndarray, np.ndarray]],\n",
        "            testloader: Optional[Iterable[Tuple[np.ndarray, np.ndarray]]] = None,\n",
        "            print_results: bool = True) -> Dict[str, List[float]]:\n",
        "        \"\"\"\n",
        "        Train the neural network on a given dataset for a specified number of epochs.\n",
        "\n",
        "        Args:\n",
        "            epochs: int, the number of training epochs.\n",
        "            trainloader: an iterable that provides batches of training data.\n",
        "            testloader: an iterable that provides batches of test data (optional).\n",
        "            print_results: bool, whether to print the results after each epoch.\n",
        "\n",
        "        Returns:\n",
        "            dict, a log of the training and test accuracy and loss for each epoch.\n",
        "        \"\"\"\n",
        "        self._validate_model_and_params()\n",
        "        log = {\"train_accuracy\": [], \"train_loss\": [], \"test_accuracy\": [], \"test_loss\": []}\n",
        "        \n",
        "        for epoch in range(1, epochs+1):\n",
        "            if print_results: \n",
        "                print(f'Epoch {epoch}:')\n",
        "\n",
        "            train_accuracy, train_loss = self._train(trainloader)\n",
        "\n",
        "            log['train_accuracy'].append(train_accuracy)\n",
        "            log['train_loss'].append(train_loss)\n",
        "\n",
        "            if print_results:\n",
        "                print(f'\\tTrain: Average Accuracy: {train_accuracy}\\tAverage Loss: {train_loss}')\n",
        "\n",
        "            if testloader:\n",
        "                test_accuracy, test_loss = self._test(testloader)\n",
        "                log['test_accuracy'].append(test_accuracy)\n",
        "                log['test_loss'].append(test_loss)\n",
        "                if print_results:\n",
        "                    print(f'\\tTest: Average Accuracy: {test_accuracy}\\tAverage Loss:{test_loss}')\n",
        "\n",
        "        return log\n",
        "\n",
        "    def _train(self, trainloader: Iterable[Tuple[np.ndarray, np.ndarray]]) -> Tuple[float, float]:\n",
        "        \"\"\"\n",
        "        Train the neural network on a single batch of training data.\n",
        "\n",
        "        Args:\n",
        "            trainloader: an iterable that provides batches of training data.\n",
        "\n",
        "        Returns:\n",
        "            float, the average training accuracy on the batch.\n",
        "            float, the average training loss on the batch.\n",
        "        \"\"\"\n",
        "        return self._run_on_loader(trainloader, train=True)\n",
        "\n",
        "    def _test(self, testloader: Iterable[Tuple[np.ndarray, np.ndarray]]) -> Tuple[float, float]:\n",
        "        \"\"\"\n",
        "        Test the neural network on a single batch of test data.\n",
        "\n",
        "        Args:\n",
        "            testloader: an iterable that provides batches of test data.\n",
        "\n",
        "        Returns:\n",
        "            float, the average test accuracy on the batch.\n",
        "            float, the average test loss on the batch.\n",
        "        \"\"\"\n",
        "        return self._run_on_loader(testloader, train=False)\n",
        "\n",
        "    def _run_on_loader(self, loader: Iterable[Tuple[np.ndarray, np.ndarray]], train: bool) -> Tuple[float, float]:\n",
        "        \"\"\"\n",
        "        Run the neural network on a given dataset (train or test).\n",
        "\n",
        "        Args:\n",
        "            loader: an iterable that provides batches of data.\n",
        "            train: bool, whether to train the network or not.\n",
        "\n",
        "        Returns:\n",
        "            float, the average accuracy on the dataset.\n",
        "            float, the average loss on the dataset.\n",
        "        \"\"\"\n",
        "        accuracies, losses = [], []\n",
        "\n",
        "        for x_batch, y_batch in loader:\n",
        "            accuracy, loss = self._run_on_batch(x_batch, y_batch, train)\n",
        "            accuracies.append(accuracy)\n",
        "            losses.append(loss)\n",
        "\n",
        "        return np.mean(accuracies), np.mean(losses)\n",
        "\n",
        "    def _run_on_batch(self, x_batch: np.ndarray, y_batch: np.ndarray, train: bool) -> Tuple[float, float]:\n",
        "        \"\"\"\n",
        "        Run the neural network on a single batch of data.\n",
        "\n",
        "        Args:\n",
        "            x_batch: numpy array, the input data for the batch.\n",
        "            y_batch: numpy array, the target output data for the batch.\n",
        "            train: bool, whether to train the network or not.\n",
        "\n",
        "        Returns:\n",
        "            float, the accuracy on the batch.\n",
        "            float, the average loss on the batch.\n",
        "        \"\"\"\n",
        "        batch_res = self.forward(x_batch)\n",
        "\n",
        "        batch_accuracy = self._compute_accuracy(batch_res, y_batch, train)\n",
        "        \n",
        "\n",
        "        batch_losses = self._loss(y_batch, batch_res)\n",
        "        batch_average_loss = np.mean(batch_losses)\n",
        "\n",
        "        if train:\n",
        "            self._update_weights(batch_res, y_batch)\n",
        "\n",
        "        return batch_accuracy, batch_average_loss\n",
        "\n",
        "    def _get_labels(self, outputs: np.ndarray, train = False) -> np.ndarray:\n",
        "        \"\"\"\n",
        "        Convert the predicted output probabilities into binary labels.\n",
        "\n",
        "        Args:\n",
        "            outputs: numpy array, the predicted output probabilities.\n",
        "\n",
        "        Returns:\n",
        "            numpy array, the binary labels.\n",
        "        \"\"\"\n",
        "        labels = np.zeros((outputs.shape[0], outputs.shape[1]))\n",
        "        indices = np.argmax(outputs, axis=1)  \n",
        "\n",
        "        for i in range(outputs.shape[0]):\n",
        "            labels[i, indices[i]] = 1\n",
        "\n",
        "        return labels\n",
        "\n",
        "    def _compute_accuracy(self, output: np.ndarray, expected_output: np.ndarray, train = False) -> float:\n",
        "        \"\"\"\n",
        "        Compute the accuracy of the predicted output with respect to the expected output.\n",
        "\n",
        "        Args:\n",
        "            output: numpy array, the predicted output from the neural network.\n",
        "            expected_output: numpy array, the ground truth output.\n",
        "\n",
        "        Returns:\n",
        "            float, the accuracy of the predicted output.\n",
        "        \"\"\"\n",
        "        output_labels = self._get_labels(output, train)\n",
        "        expected_labels = self._get_labels(expected_output, train)\n",
        "        accuracy = np.mean(np.all(output_labels == expected_labels, axis=1))\n",
        "\n",
        "        return accuracy\n",
        "\n",
        "    def _update_weights(self, output: np.ndarray, y_train: np.ndarray) -> None:\n",
        "        \"\"\"\n",
        "        Update the weights of the neural network based on the predicted output and the ground truth output.\n",
        "\n",
        "        Args:\n",
        "            output: numpy array, the predicted output from the neural network.\n",
        "            y_train: numpy array, the ground truth output.\n",
        "            \n",
        "        \"\"\"\n",
        "        derivation_of_layer = self._loss.derivative(y_train, output)\n",
        "\n",
        "        for layer in reversed(self._layers_list):\n",
        "            derivation_of_layer = layer.update_weights(derivation_of_layer, self._lr)\n",
        "\n",
        "    def _validate_neurons_number(self, n_neurons):\n",
        "        \"\"\"\n",
        "        Check that the number of neurons is a positive integer.\n",
        "\n",
        "        Args:\n",
        "            n_neurons: int, the number of neurons.\n",
        "\n",
        "        Raises:\n",
        "            ValueError: if the number of neurons is not a positive integer.\n",
        "        \"\"\"\n",
        "        if not isinstance(n_neurons, int) or n_neurons <= 0:\n",
        "            raise ValueError(\"Invalid number of neurons for the layer!\")\n",
        "\n",
        "    def _validate_model_and_params(self):\n",
        "        \"\"\"\n",
        "        Check that the neural network is fully defined and the training parameters are set        properly.\n",
        "\n",
        "        Raises:\n",
        "            ValueError: if the neural network is not fully defined or the training parameters are not set.\n",
        "        \"\"\"\n",
        "        if not self._output_shape:\n",
        "            raise ValueError(\"Model is not compiled!\")\n",
        "        if not self._lr or not self._loss:\n",
        "            raise ValueError(\"Training parameters are not set!\")"
      ],
      "metadata": {
        "id": "kmkGeqBlFEfk"
      },
      "execution_count": 16,
      "outputs": []
    },
    {
      "cell_type": "markdown",
      "source": [
        "# Training"
      ],
      "metadata": {
        "id": "456PsO73MGjx"
      }
    },
    {
      "cell_type": "code",
      "source": [
        "TRAINLOADER = DataLoader(train_images, train_labels, batch_size=32, shuffle=True)\n",
        "TESTLOADER = DataLoader(test_images, test_labels, batch_size=32, shuffle=True)\n",
        "\n",
        "LEARNING_RATE = 0.001\n",
        "EPOCHS = 25\n",
        "\n",
        "network = FeedForwardNN(train_images.shape[1] * train_images.shape[2] )\n",
        "network.add_layer(20, activation=Relu(), weight_initializer='uniform')\n",
        "network.add_layer(20, activation=Relu(), weight_initializer='uniform')\n",
        "network.add_layer(20, activation=Relu(), weight_initializer='uniform')\n",
        "network.add_layer(10, activation=Identical(), weight_initializer='uniform')\n",
        "\n",
        "network.set_training_param(loss=CrossEntropy(), lr=LEARNING_RATE)\n",
        "\n",
        "log.append(network.fit(EPOCHS, TRAINLOADER, TESTLOADER)) "
      ],
      "metadata": {
        "colab": {
          "base_uri": "https://localhost:8080/"
        },
        "id": "uul-HZ2iHFlc",
        "outputId": "406a5651-23d1-4b21-ddde-465679d44afd"
      },
      "execution_count": 18,
      "outputs": [
        {
          "output_type": "stream",
          "name": "stdout",
          "text": [
            "Epoch 1:\n",
            "\tTrain: Average Accuracy: 0.2515\tAverage Loss: 1.9491361948279664\n",
            "\tTest: Average Accuracy: 0.38887779552715657\tAverage Loss:1.5848827377339594\n",
            "Epoch 2:\n",
            "\tTrain: Average Accuracy: 0.5703\tAverage Loss: 1.061671052911432\n",
            "\tTest: Average Accuracy: 0.6883985623003195\tAverage Loss:0.8225356239643141\n",
            "Epoch 3:\n",
            "\tTrain: Average Accuracy: 0.7317833333333333\tAverage Loss: 0.7346787070559802\n",
            "\tTest: Average Accuracy: 0.7523961661341853\tAverage Loss:0.6789764966251921\n",
            "Epoch 4:\n",
            "\tTrain: Average Accuracy: 0.7848\tAverage Loss: 0.6115368265476111\n",
            "\tTest: Average Accuracy: 0.8007188498402555\tAverage Loss:0.5868312440466497\n",
            "Epoch 5:\n",
            "\tTrain: Average Accuracy: 0.8122666666666667\tAverage Loss: 0.5388258236609706\n",
            "\tTest: Average Accuracy: 0.8195886581469649\tAverage Loss:0.5279947649366858\n",
            "Epoch 6:\n",
            "\tTrain: Average Accuracy: 0.8270666666666666\tAverage Loss: 0.4911264858722257\n",
            "\tTest: Average Accuracy: 0.8265774760383386\tAverage Loss:0.5023043561134494\n",
            "Epoch 7:\n",
            "\tTrain: Average Accuracy: 0.8353833333333334\tAverage Loss: 0.4619154435557912\n",
            "\tTest: Average Accuracy: 0.8215854632587859\tAverage Loss:0.5041730219778987\n",
            "Epoch 8:\n",
            "\tTrain: Average Accuracy: 0.8425833333333334\tAverage Loss: 0.4417053883077197\n",
            "\tTest: Average Accuracy: 0.8369608626198083\tAverage Loss:0.4662696545770734\n",
            "Epoch 9:\n",
            "\tTrain: Average Accuracy: 0.8492833333333333\tAverage Loss: 0.42308266166815073\n",
            "\tTest: Average Accuracy: 0.8316693290734825\tAverage Loss:0.46013923438629084\n",
            "Epoch 10:\n",
            "\tTrain: Average Accuracy: 0.8554333333333334\tAverage Loss: 0.406727456426986\n",
            "\tTest: Average Accuracy: 0.8476437699680511\tAverage Loss:0.4345621570633793\n",
            "Epoch 11:\n",
            "\tTrain: Average Accuracy: 0.8583666666666666\tAverage Loss: 0.3912427527572104\n",
            "\tTest: Average Accuracy: 0.849341054313099\tAverage Loss:0.4339751492299887\n",
            "Epoch 12:\n",
            "\tTrain: Average Accuracy: 0.86255\tAverage Loss: 0.3805959821115901\n",
            "\tTest: Average Accuracy: 0.8346645367412141\tAverage Loss:0.4792903057224205\n",
            "Epoch 13:\n",
            "\tTrain: Average Accuracy: 0.86635\tAverage Loss: 0.36992047957858676\n",
            "\tTest: Average Accuracy: 0.8528354632587859\tAverage Loss:0.41785853063558837\n",
            "Epoch 14:\n",
            "\tTrain: Average Accuracy: 0.86895\tAverage Loss: 0.36165276075699426\n",
            "\tTest: Average Accuracy: 0.8573282747603834\tAverage Loss:0.4005646914022405\n",
            "Epoch 15:\n",
            "\tTrain: Average Accuracy: 0.8707333333333334\tAverage Loss: 0.35418012258389425\n",
            "\tTest: Average Accuracy: 0.8587260383386581\tAverage Loss:0.399228211352313\n",
            "Epoch 16:\n",
            "\tTrain: Average Accuracy: 0.8733833333333333\tAverage Loss: 0.34857453126025245\n",
            "\tTest: Average Accuracy: 0.8497404153354633\tAverage Loss:0.4250411645998192\n",
            "Epoch 17:\n",
            "\tTrain: Average Accuracy: 0.8769333333333333\tAverage Loss: 0.34079378422785744\n",
            "\tTest: Average Accuracy: 0.8518370607028753\tAverage Loss:0.4026032216845075\n",
            "Epoch 18:\n",
            "\tTrain: Average Accuracy: 0.8769166666666667\tAverage Loss: 0.3351692142993651\n",
            "\tTest: Average Accuracy: 0.8616214057507987\tAverage Loss:0.38677579765857595\n",
            "Epoch 19:\n",
            "\tTrain: Average Accuracy: 0.8776833333333334\tAverage Loss: 0.3326056466698404\n",
            "\tTest: Average Accuracy: 0.8586261980830671\tAverage Loss:0.38828489552627415\n",
            "Epoch 20:\n",
            "\tTrain: Average Accuracy: 0.8805\tAverage Loss: 0.3253787451547613\n",
            "\tTest: Average Accuracy: 0.8432507987220448\tAverage Loss:0.4270359146320885\n",
            "Epoch 21:\n",
            "\tTrain: Average Accuracy: 0.8818833333333334\tAverage Loss: 0.32132608516091243\n",
            "\tTest: Average Accuracy: 0.8607228434504792\tAverage Loss:0.3948814415917236\n",
            "Epoch 22:\n",
            "\tTrain: Average Accuracy: 0.8830666666666667\tAverage Loss: 0.31814610847476293\n",
            "\tTest: Average Accuracy: 0.863917731629393\tAverage Loss:0.38040247269461225\n",
            "Epoch 23:\n",
            "\tTrain: Average Accuracy: 0.8828666666666667\tAverage Loss: 0.31580906849944557\n",
            "\tTest: Average Accuracy: 0.860423322683706\tAverage Loss:0.3845687331210155\n",
            "Epoch 24:\n",
            "\tTrain: Average Accuracy: 0.8847166666666667\tAverage Loss: 0.31219890783808174\n",
            "\tTest: Average Accuracy: 0.8640175718849841\tAverage Loss:0.3842278896539644\n",
            "Epoch 25:\n",
            "\tTrain: Average Accuracy: 0.8846833333333334\tAverage Loss: 0.30926725304545877\n",
            "\tTest: Average Accuracy: 0.8638178913738019\tAverage Loss:0.3858196284940161\n"
          ]
        }
      ]
    },
    {
      "cell_type": "code",
      "source": [
        "check_log = log[0]\n",
        "\n",
        "fig, axs = plt.subplots(2, figsize=(8, 8))\n",
        "\n",
        "axs[0].plot(check_log['train_loss'], label='Train Loss')\n",
        "axs[0].plot(check_log['test_loss'], label='Test Loss')\n",
        "axs[0].set_title('Train and Test Loss')\n",
        "axs[0].set_xlabel('Epoch')\n",
        "axs[0].set_ylabel('Loss')\n",
        "axs[0].legend()\n",
        "\n",
        "axs[1].plot(check_log['train_accuracy'], label='Train Accuracy')\n",
        "axs[1].plot(check_log['test_accuracy'], label='Test Accuracy')\n",
        "axs[1].set_title('Train and Test Accuracy')\n",
        "axs[1].set_xlabel('Epoch')\n",
        "axs[1].set_ylabel('Accuracy')\n",
        "axs[1].legend()\n",
        "\n",
        "plt.tight_layout()\n",
        "plt.show()"
      ],
      "metadata": {
        "colab": {
          "base_uri": "https://localhost:8080/",
          "height": 807
        },
        "id": "QY9RT38QBMED",
        "outputId": "10170dd5-2182-49d8-b7ca-abe6560dcc4b"
      },
      "execution_count": 22,
      "outputs": [
        {
          "output_type": "display_data",
          "data": {
            "text/plain": [
              "<Figure size 800x800 with 2 Axes>"
            ],
            "image/png": "[encoded data removed]"
          },
          "metadata": {}
        }
      ]
    },
    {
      "cell_type": "code",
      "source": [],
      "metadata": {
        "id": "8bLGTm0VM2ox"
      },
      "execution_count": null,
      "outputs": []
    }
  ]
}